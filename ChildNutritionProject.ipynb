{
 "cells": [
  {
   "cell_type": "markdown",
   "id": "3eded508",
   "metadata": {},
   "source": [
    "## Child Nutrition Calculator Project"
   ]
  },
  {
   "cell_type": "code",
   "execution_count": 50,
   "id": "3243bb24",
   "metadata": {},
   "outputs": [
    {
     "name": "stdout",
     "output_type": "stream",
     "text": [
      "INPUT\n",
      "Name: Shivang Singh\n",
      "Gender: MALE\n",
      "Age between 0-8 yeras: 7\n",
      "Height in inches: 45\n",
      "Weight in pounds: 60\n"
     ]
    }
   ],
   "source": [
    "print(\"INPUT\")\n",
    "name= input(\"Name: \")\n",
    "gender= input(\"Gender: \")\n",
    "age= int(input(\"Age between 0-8 yeras: \"))\n",
    "height= int(input(\"Height in inches: \"))\n",
    "weight= int(input(\"Weight in pounds: \"))\n"
   ]
  },
  {
   "cell_type": "code",
   "execution_count": 51,
   "id": "d42c4280",
   "metadata": {},
   "outputs": [
    {
     "name": "stdout",
     "output_type": "stream",
     "text": [
      "Calorie Consumption\n",
      "Amount of Milk taken in grams: 100\n",
      "Amount of Vegetable taken in grams: 200\n",
      "Amount of Meat taken in grams: 100\n",
      "Amount of Lentils taken in grams: 100\n",
      "Amount of Egg taken in grams: 200\n",
      "Amount of Rice taken in grams: 100\n"
     ]
    }
   ],
   "source": [
    "print(\"Calorie Consumption\")\n",
    "milk= int(input(\"Amount of Milk taken in grams: \"))\n",
    "vegetable= int(input(\"Amount of Vegetable taken in grams: \"))\n",
    "meat= int(input(\"Amount of Meat taken in grams: \"))\n",
    "lentils= int(input(\"Amount of Lentils taken in grams: \"))\n",
    "egg= int(input(\"Amount of Egg taken in grams: \"))\n",
    "rice= int(input(\"Amount of Rice taken in grams: \"))\n"
   ]
  },
  {
   "cell_type": "code",
   "execution_count": 52,
   "id": "1b675529",
   "metadata": {},
   "outputs": [
    {
     "name": "stdout",
     "output_type": "stream",
     "text": [
      "20.82962962962963\n",
      "Healthy\n"
     ]
    }
   ],
   "source": [
    "# calculating BMI\n",
    "\n",
    "bmi= weight/(height**2)*703\n",
    "if bmi<16:\n",
    "    health= \"Severely Underweight\"\n",
    "elif bmi>=16 and bmi<18.5:\n",
    "    health= \"Underweight\"\n",
    "elif bmi>=18.5 and bmi<25:\n",
    "    health= \"Healthy\"\n",
    "elif bmi>=25 and bmi<30:\n",
    "    health= \"Overweight\"\n",
    "else:\n",
    "    health= \"Obese\"\n",
    "print(bmi)\n",
    "print(health)\n"
   ]
  },
  {
   "cell_type": "markdown",
   "id": "0f4407d4",
   "metadata": {},
   "source": [
    "### Calorie of different foods\n",
    "* Milk: 100 cal/ 100g \n",
    "* Egg: 155 cal/ 100g \n",
    "* Rice: 130 cal/ 100g \n",
    "* Lentils: 113 cal/ 100g \n",
    "* Vegetable: 85 cal/100g \n",
    "* Meat: 143 cal/ 100g\n"
   ]
  },
  {
   "cell_type": "code",
   "execution_count": 53,
   "id": "dd98240c",
   "metadata": {},
   "outputs": [
    {
     "name": "stdout",
     "output_type": "stream",
     "text": [
      "2256.0\n"
     ]
    }
   ],
   "source": [
    "# calorie intake calculation according to chart above...\n",
    "\n",
    "milk_calorie= (100/100)*milk\n",
    "egg_calorie= (155/100)*egg\n",
    "rice_calorie= (130/100)*rice\n",
    "lentils_calorie= (113/100)*lentils\n",
    "vegetable_calorie= (85/100)*vegetable\n",
    "meat_calorie= (1433/100)*meat\n",
    "\n",
    "# total calorie consumption in one day...\n",
    "\n",
    "daily_calorie_consumption= milk_calorie + egg_calorie + rice_calorie + lentils_calorie + vegetable_calorie + meat_calorie\n",
    "print(daily_calorie_consumption)\n"
   ]
  },
  {
   "cell_type": "code",
   "execution_count": 54,
   "id": "7bb22ba9",
   "metadata": {},
   "outputs": [],
   "source": [
    "# checking nourishment according to age and their daily calorie intake\n",
    "\n",
    "if age>=0 and age<2:\n",
    "    if daily_calorie_consumption>=800:\n",
    "        nourishment = 'not undernourished'\n",
    "    else:\n",
    "            nourishment = 'undernourished'\n",
    "elif age>=2 and age<4:\n",
    "    if daily_calorie_consumption>=1400:\n",
    "        nourishment = 'not undernourished'\n",
    "    else:\n",
    "            nourishment = 'undernourished'\n",
    "elif age>=4 and age<8:\n",
    "    if daily_calorie_consumption>=1800:\n",
    "        nourishment = 'not undernourished'\n",
    "    else:\n",
    "            nourishment = 'undernourished'\n",
    "            "
   ]
  },
  {
   "cell_type": "code",
   "execution_count": 56,
   "id": "5dbbcda2",
   "metadata": {},
   "outputs": [
    {
     "name": "stdout",
     "output_type": "stream",
     "text": [
      "BMI of Shivang Singh is 20.82962962962963 and he is Healthy\n",
      "The daily calorie consumption of Shivang Singh is 2256.0 and he is not undernourished\n"
     ]
    }
   ],
   "source": [
    "# printing the final result\n",
    "\n",
    "if gender.lower() == \"male\":\n",
    "    print(\"BMI of \"+name+\" is\",bmi,\"and he is \"+health)\n",
    "    print(\"The daily calorie consumption of \"+name+\" is\",daily_calorie_consumption,\"and he is \"+nourishment)\n",
    "elif gender.lower() == \"female\":\n",
    "    print(\"BMI of \"+name+\" is\",bmi,\"and she is \"+health)\n",
    "    print(\"The daily calorie consumption of \"+name+\" is\",daily_calorie_consumption,\"and she is \"+nourishment)\n",
    "else:\n",
    "    print(\"BMI of \"+name+\" is\",bmi,\"and he/she is \"+health)\n",
    "    print(\"The daily calorie consumption of \"+name+\" is\",daily_calorie_consumption,\"and he/she is \"+nourishment)"
   ]
  },
  {
   "cell_type": "code",
   "execution_count": null,
   "id": "c31cc248",
   "metadata": {},
   "outputs": [],
   "source": []
  }
 ],
 "metadata": {
  "kernelspec": {
   "display_name": "Python 3 (ipykernel)",
   "language": "python",
   "name": "python3"
  },
  "language_info": {
   "codemirror_mode": {
    "name": "ipython",
    "version": 3
   },
   "file_extension": ".py",
   "mimetype": "text/x-python",
   "name": "python",
   "nbconvert_exporter": "python",
   "pygments_lexer": "ipython3",
   "version": "3.9.7"
  }
 },
 "nbformat": 4,
 "nbformat_minor": 5
}
