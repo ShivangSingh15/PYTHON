{
 "cells": [
  {
   "cell_type": "markdown",
   "id": "f4db7021",
   "metadata": {},
   "source": [
    "#    Binary Search in Python"
   ]
  },
  {
   "cell_type": "code",
   "execution_count": 35,
   "id": "efe63c82",
   "metadata": {},
   "outputs": [
    {
     "name": "stdout",
     "output_type": "stream",
     "text": [
      "[1, 3, 5, 7, 9, 11, 13, 15, 17, 19, 21, 23, 25, 27, 29, 31, 33, 35, 37, 39, 41, 43, 45, 47, 49, 51, 53, 55, 57, 59, 61, 63, 65, 67, 69, 71, 73, 75, 77, 79, 81, 83, 85, 87, 89, 91, 93, 95, 97, 99]\n"
     ]
    }
   ],
   "source": [
    "# Creating list of random numbers using list Comprehension\n",
    "\n",
    "list= [x for x in range(1,100,2)]\n",
    "print(list)"
   ]
  },
  {
   "cell_type": "code",
   "execution_count": 36,
   "id": "2f1cd8da",
   "metadata": {},
   "outputs": [],
   "source": [
    "# Creating fuction for binary search\n",
    "\n",
    "def binary_search(data,key,left,right):\n",
    "        \n",
    "#     base condition\n",
    "    if left > right:\n",
    "        return -1\n",
    "    \n",
    "    \n",
    "#     finding middle of the list\n",
    "    mid = (left+right)//2\n",
    "\n",
    "    \n",
    "#     if number found return true\n",
    "    if data[mid] == key:\n",
    "        \n",
    "        return mid\n",
    "    \n",
    "#     if number is greater than mid, find in right half\n",
    "#     updating left= mid+1\n",
    "\n",
    "    elif key > data[mid]:\n",
    "        return binary_search(data, key, mid+1, right)\n",
    "        \n",
    "#     if number is smaller than mid, find in left half\n",
    "#     updatin right= left-1\n",
    "\n",
    "    else:\n",
    "        return binary_search(data, key, left, mid-1)\n",
    "            \n",
    "    "
   ]
  },
  {
   "cell_type": "code",
   "execution_count": 37,
   "id": "6eb74dba",
   "metadata": {},
   "outputs": [
    {
     "name": "stdout",
     "output_type": "stream",
     "text": [
      "Enter number you want to serach = 69\n"
     ]
    }
   ],
   "source": [
    "# Taking input from user\n",
    "key= int(input(\"Enter number you want to serach = \"))\n",
    "\n",
    "# Calling the function\n",
    "\n",
    "length= len(list)-1\n",
    "index= binary_search(list, key, 0, length)"
   ]
  },
  {
   "cell_type": "code",
   "execution_count": 38,
   "id": "cd16496e",
   "metadata": {},
   "outputs": [
    {
     "name": "stdout",
     "output_type": "stream",
     "text": [
      "Number is present at index = 34\n"
     ]
    }
   ],
   "source": [
    "# Printing the final result\n",
    "\n",
    "if index== -1:\n",
    "    print(\"Number is not present in list\")\n",
    "else:\n",
    "    print(\"Number is present at index =\",index)"
   ]
  }
 ],
 "metadata": {
  "kernelspec": {
   "display_name": "Python 3 (ipykernel)",
   "language": "python",
   "name": "python3"
  },
  "language_info": {
   "codemirror_mode": {
    "name": "ipython",
    "version": 3
   },
   "file_extension": ".py",
   "mimetype": "text/x-python",
   "name": "python",
   "nbconvert_exporter": "python",
   "pygments_lexer": "ipython3",
   "version": "3.9.7"
  }
 },
 "nbformat": 4,
 "nbformat_minor": 5
}
